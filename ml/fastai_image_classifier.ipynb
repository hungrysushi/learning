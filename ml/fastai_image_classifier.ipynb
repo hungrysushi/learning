{
  "nbformat": 4,
  "nbformat_minor": 0,
  "metadata": {
    "colab": {
      "provenance": [],
      "toc_visible": true
    },
    "kernelspec": {
      "name": "python3",
      "display_name": "Python 3"
    },
    "language_info": {
      "name": "python"
    }
  },
  "cells": [
    {
      "cell_type": "markdown",
      "source": [
        "# Training"
      ],
      "metadata": {
        "id": "Ku0eGAgic4l9"
      }
    },
    {
      "cell_type": "code",
      "execution_count": null,
      "metadata": {
        "id": "hS4US3j0-9tJ"
      },
      "outputs": [],
      "source": [
        "!pip install -Uq fastai\n",
        "import fastai\n",
        "from fastai.vision import *"
      ]
    },
    {
      "cell_type": "code",
      "source": [
        "from google.colab import drive\n",
        "drive.mount('/content/drive')"
      ],
      "metadata": {
        "id": "HhGEp65ZAC7M"
      },
      "execution_count": null,
      "outputs": []
    },
    {
      "cell_type": "code",
      "source": [
        "import pandas as pd\n",
        "import numpy as np\n",
        "import matplotlib.pyplot as plt"
      ],
      "metadata": {
        "id": "SIYPYkJH_iHg"
      },
      "execution_count": null,
      "outputs": []
    },
    {
      "cell_type": "code",
      "source": [
        "from pathlib import Path\n",
        "from fastai.vision.all import get_image_files\n",
        "\n",
        "pies = \"apple_pie\", \"blueberry_pie\", \"peach_pie\", \"pecan_pie\", \"pi_symbol\", \"raspberry_pie\", \"raspberry_pi\"\n",
        "path = Path('/content/drive/MyDrive/pie_classifier')\n",
        "filenames = get_image_files(path)\n",
        "len(filenames)"
      ],
      "metadata": {
        "id": "jwlGoBXPAZ02"
      },
      "execution_count": null,
      "outputs": []
    },
    {
      "cell_type": "code",
      "source": [
        "from fastai.vision.all import ImageDataLoaders, Resize, aug_transforms\n",
        "\n",
        "def label_func(f): return f.parent.name\n",
        "\n",
        "dls = ImageDataLoaders.from_folder(path, valid_pct=0.6, vocab=pies, item_tfms=Resize(460), batch_tfms=aug_transforms(size=244))"
      ],
      "metadata": {
        "id": "oLKpI2S-BRSw"
      },
      "execution_count": null,
      "outputs": []
    },
    {
      "cell_type": "code",
      "source": [
        "dls.show_batch()"
      ],
      "metadata": {
        "id": "Jl44FbhmBYS8"
      },
      "execution_count": null,
      "outputs": []
    },
    {
      "cell_type": "code",
      "source": [
        "from fastai.vision.all import F1ScoreMulti, vision_learner, resnet50, partial, accuracy_multi\n",
        "\n",
        "f1_macro = F1ScoreMulti(thresh=0.5, average='macro')\n",
        "f1_macro.name = 'F1(macro)'\n",
        "f1_samples = F1ScoreMulti(thresh=0.5, average='samples')\n",
        "f1_samples.name = 'F1(samples)'\n",
        "learn = vision_learner(dls, resnet50, metrics=[partial(accuracy_multi, thresh=0.5), f1_macro, f1_samples])"
      ],
      "metadata": {
        "id": "guhyCsJKB30t"
      },
      "execution_count": null,
      "outputs": []
    },
    {
      "cell_type": "code",
      "source": [
        "learn.lr_find()"
      ],
      "metadata": {
        "id": "cxD95CZOCQsX"
      },
      "execution_count": null,
      "outputs": []
    },
    {
      "cell_type": "code",
      "source": [
        "learn.fine_tune(2, 3e-2)"
      ],
      "metadata": {
        "id": "jVM8Dvg9CpEj"
      },
      "execution_count": null,
      "outputs": []
    },
    {
      "cell_type": "code",
      "source": [
        "learn.export('/content/drive/MyDrive/pie_classifier/export.pkl')"
      ],
      "metadata": {
        "id": "gfGpmqDTb3yy"
      },
      "execution_count": null,
      "outputs": []
    },
    {
      "cell_type": "markdown",
      "source": [
        "# Inference"
      ],
      "metadata": {
        "id": "ElsSEEt8cUku"
      }
    },
    {
      "cell_type": "code",
      "source": [
        "import requests\n",
        "from PIL import Image\n",
        "\n",
        "test_image_url = 'https://bake-eat-repeat.com/wp-content/uploads/2016/05/Raspberry-Pie-3-540x720.jpg.webp'\n",
        "\n",
        "response = requests.get(test_image_url)\n",
        "img = Image.open(response.raw)"
      ],
      "metadata": {
        "id": "9S8La_HiXwpw"
      },
      "execution_count": null,
      "outputs": []
    },
    {
      "cell_type": "code",
      "source": [
        "from fastai.vision.all import load_learner\n",
        "\n",
        "inf = load_learner('/content/drive/MyDrive/pie_classifier/export.pkl')\n",
        "inf.predict(img)"
      ],
      "metadata": {
        "id": "jDXjrRq9cfp8"
      },
      "execution_count": null,
      "outputs": []
    }
  ]
}